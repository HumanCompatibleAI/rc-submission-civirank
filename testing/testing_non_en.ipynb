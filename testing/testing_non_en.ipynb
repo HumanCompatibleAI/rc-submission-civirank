{
 "cells": [
  {
   "cell_type": "code",
   "execution_count": 1,
   "metadata": {},
   "outputs": [
    {
     "name": "stderr",
     "output_type": "stream",
     "text": [
      "c:\\Users\\Joao\\miniconda3\\envs\\ranker\\Lib\\site-packages\\sentence_transformers\\cross_encoder\\CrossEncoder.py:11: TqdmWarning: IProgress not found. Please update jupyter and ipywidgets. See https://ipywidgets.readthedocs.io/en/stable/user_install.html\n",
      "  from tqdm.autonotebook import tqdm, trange\n"
     ]
    }
   ],
   "source": [
    "from civirank import analyzers, parsers, rankers\n",
    "\n",
    "import json\n",
    "import numpy as np\n",
    "\n",
    "import time\n",
    "import pickle\n",
    "\n",
    "import warnings\n",
    "with warnings.catch_warnings():\n",
    "    warnings.simplefilter(action='ignore', category=FutureWarning)"
   ]
  },
  {
   "cell_type": "code",
   "execution_count": 2,
   "metadata": {},
   "outputs": [],
   "source": [
    "# load sample data\n",
    "fname = \"testing/twitter_test.json\"\n",
    "with open(fname, \"r\") as fin:\n",
    "    sample_data_twitter = json.load(fin)\n",
    "fname = \"testing/reddit_test.json\"\n",
    "with open(fname, \"r\") as fin:\n",
    "    sample_data_reddit = json.load(fin)\n",
    "fname = \"testing/facebook_test.json\"\n",
    "with open(fname, \"r\") as fin:\n",
    "    sample_data_facebook = json.load(fin)"
   ]
  },
  {
   "cell_type": "code",
   "execution_count": 3,
   "metadata": {},
   "outputs": [
    {
     "name": "stderr",
     "output_type": "stream",
     "text": [
      "c:\\Users\\Joao\\miniconda3\\envs\\ranker\\Lib\\site-packages\\huggingface_hub\\file_download.py:1132: FutureWarning: `resume_download` is deprecated and will be removed in version 1.0.0. Downloads always resume when possible. If you want to force a new download, use `force_download=True`.\n",
      "  warnings.warn(\n"
     ]
    }
   ],
   "source": [
    "v = rankers.LocalRanker(debug=True)"
   ]
  },
  {
   "cell_type": "code",
   "execution_count": 4,
   "metadata": {},
   "outputs": [
    {
     "name": "stdout",
     "output_type": "stream",
     "text": [
      "16 posts not in English.\n",
      "lang\n",
      "en    184\n",
      "hu      7\n",
      "yu      3\n",
      "vi      2\n",
      "az      1\n",
      "we      1\n",
      "ko      1\n",
      "tu      1\n",
      "Name: count, dtype: int64\n"
     ]
    }
   ],
   "source": [
    "v2 = v.rank(sample_data_reddit)"
   ]
  }
 ],
 "metadata": {
  "kernelspec": {
   "display_name": "bench",
   "language": "python",
   "name": "python3"
  },
  "language_info": {
   "codemirror_mode": {
    "name": "ipython",
    "version": 3
   },
   "file_extension": ".py",
   "mimetype": "text/x-python",
   "name": "python",
   "nbconvert_exporter": "python",
   "pygments_lexer": "ipython3",
   "version": "3.11.9"
  }
 },
 "nbformat": 4,
 "nbformat_minor": 2
}
