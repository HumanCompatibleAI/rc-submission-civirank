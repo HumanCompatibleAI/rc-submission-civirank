{
 "cells": [
  {
   "cell_type": "code",
   "execution_count": 1,
   "metadata": {},
   "outputs": [
    {
     "name": "stderr",
     "output_type": "stream",
     "text": [
      "/home/joaopn/software/miniconda3/envs/bench/lib/python3.11/site-packages/tqdm/auto.py:21: TqdmWarning: IProgress not found. Please update jupyter and ipywidgets. See https://ipywidgets.readthedocs.io/en/stable/user_install.html\n",
      "  from .autonotebook import tqdm as notebook_tqdm\n"
     ]
    }
   ],
   "source": [
    "import sys\n",
    "import os\n",
    "import fasttext\n",
    "from huggingface_hub import hf_hub_download\n",
    "from transformers import pipeline"
   ]
  },
  {
   "cell_type": "code",
   "execution_count": 9,
   "metadata": {},
   "outputs": [],
   "source": [
    "class LanguageAnalyzer():\n",
    "    def __init__(self):\n",
    "        fname = \"lid.176.bin\"\n",
    "        filepath = os.path.join('civirank','data', fname)\n",
    "        self.model = fasttext.load_model(filepath)\n",
    "\n",
    "    def detect_language(self, text):\n",
    "        return self.model.predict(text)[0][0].replace(\"__label__\", \"\")\n",
    "\n",
    "class LanguageAnalyzerV2():\n",
    "    def __init__(self):\n",
    "        model_path = hf_hub_download(repo_id=\"facebook/fasttext-language-identification\", filename=\"model.bin\")\n",
    "        self.model = fasttext.load_model(model_path)\n",
    "\n",
    "    def detect_language(self, text):\n",
    "        return self.model.predict(sentence_2)[0][0].replace(\"__label__\", \"\").split(\"_\")[0][0:2]\n",
    "\n",
    "class LanguageAnalyzer():\n",
    "    def __init__(self):\n",
    "        model_path = hf_hub_download(repo_id=\"facebook/fasttext-language-identification\", filename=\"model.bin\")\n",
    "        self.model = fasttext.load_model(model_path)\n",
    "\n",
    "    def detect_language(self, text):\n",
    "        return self.model.predict(text)[0][0].replace(\"__label__\", \"\").split(\"_\")[0][0:2]\n",
    "\n",
    "class LanguageAnalyzerXLM():\n",
    "    def __init__(self):\n",
    "        self.model = pipeline(\"text-classification\", model=\"juliensimon/xlm-v-base-language-id\", tokenizer=\"juliensimon/xlm-v-base-language-id\")\n",
    "        \n",
    "\n",
    "    def detect_language(self, text):\n",
    "        return self.model(text)[0]['label'][0:2].lower()"
   ]
  },
  {
   "cell_type": "code",
   "execution_count": 3,
   "metadata": {},
   "outputs": [],
   "source": [
    "sentence_1 = \"# COPPER MAY 23Last Updated APR 04, 2023 09:30 EDT# TECHNICAL ANALYSIS|**TIME**|**AVG.**|**HIGH**|**LOW**|**AVG. VOL**||:-|:-|:-|:-|:-||**LAST**|**4.04**|**4.05**|**4.03**|**5,930**||**1 MONTH**|**4.02**|**4.12**|**3.86**|**10,377**||**3 MONTH**|**4.08**|**4.31**|**3.73**|**6,100**||**6 MONTH**|**3.88**|**4.31**|**3.36**|**3,752**||**1 YEAR**|**3.89**|**4.81**|**3.15**|**2,543**||**2 YEARS**|**4.15**|**5.01**|**3.15**|**2,088**||**5 YEARS**|**3.39**|**5.01**|**2.06**|**1,969**||**10 YEARS**|**3.08**|**5.01**|**1.94**|**1,815**|# 1 HOUR TRADING DATAAPR 04, 2023|**TIME**|**OPEN**|**HIGH**|**LOW**|**CLOSE**|**VOLUME**||:-|:-|:-|:-|:-|:-|:-||**09:00**|**4.03**|**4.03**|**4.01**|**4.01**|**3,589**||**08:00**|**4.04**|**4.05**|**4.02**|**4.03**|**8,193**||**07:00**|**4.06**|**4.06**|**4.04**|**4.04**|**2,491**||**06:00**|**4.06**|**4.07**|**4.06**|**4.06**|**939**||**05:00**|**4.06**|**4.07**|**4.06**|**4.06**|**1,103**||**04:00**|**4.07**|**4.07**|**4.06**|**4.06**|**2,213**||**03:00**|**4.04**|**4.07**|**4.04**|**4.07**|**3,115**||**02:00**|**4.03**|**4.05**|**4.03**|**4.04**|**1,745**||**01:00**|**4.04**|**4.04**|**4.03**|**4.03**|**1,948**||**00:00**|**4.04**|**4.04**|**4.03**|**4.04**|**495**||**23:00**|**4.04**|**4.05**|**4.04**|**4.04**|**552**||**22:00**|**4.04**|**4.05**|**4.03**|**4.04**|**1,513**||**21:00**|**4.04**|**4.05**|**4.03**|**4.04**|**2,532**||**20:00**|**4.05**|**4.05**|**4.04**|**4.04**|**847**||**19:00**|**4.05**|**4.05**|**4.05**|**4.05**|**284**||**16:00**|**4.05**|**4.06**|**4.05**|**4.05**|**517**||**15:00**|**4.05**|**4.05**|**4.05**|**4.05**|**603**||**14:00**|**4.04**|**4.05**|**4.04**|**4.05**|**803**||**13:00**|**4.05**|**4.05**|**4.04**|**4.04**|**2,991**||**12:00**|**4.05**|**4.05**|**4.03**|**4.05**|**8,227**||**11:00**|**4.06**|**4.06**|**4.04**|**4.05**|**9,867**||**10:00**|**4.08**|**4.09**|**4.06**|**4.06**|**8,172**||**09:00**|**4.08**|**4.08**|**4.07**|**4.08**|**6,783**|\"\n",
    "\n",
    "sentence_2 = \"He got me for a sec until I looked at the date 😵‍💫\""
   ]
  },
  {
   "cell_type": "code",
   "execution_count": 10,
   "metadata": {},
   "outputs": [
    {
     "data": {
      "text/plain": [
       "'en'"
      ]
     },
     "execution_count": 10,
     "metadata": {},
     "output_type": "execute_result"
    }
   ],
   "source": [
    "V3 = LanguageAnalyzerXLM()\n",
    "V3.detect_language(sentence_2[:512])"
   ]
  },
  {
   "cell_type": "code",
   "execution_count": 15,
   "metadata": {},
   "outputs": [
    {
     "data": {
      "text/plain": [
       "'ja'"
      ]
     },
     "execution_count": 15,
     "metadata": {},
     "output_type": "execute_result"
    }
   ],
   "source": [
    "V = LanguageAnalyzer()\n",
    "V.detect_language(sentence_1)"
   ]
  },
  {
   "cell_type": "code",
   "execution_count": 7,
   "metadata": {},
   "outputs": [
    {
     "data": {
      "text/plain": [
       "'en'"
      ]
     },
     "execution_count": 7,
     "metadata": {},
     "output_type": "execute_result"
    }
   ],
   "source": [
    "V2 = LanguageAnalyzerV2()\n",
    "V2.detect_language(sentence_2)"
   ]
  },
  {
   "cell_type": "code",
   "execution_count": 21,
   "metadata": {},
   "outputs": [
    {
     "data": {
      "text/plain": [
       "'en'"
      ]
     },
     "execution_count": 21,
     "metadata": {},
     "output_type": "execute_result"
    }
   ],
   "source": [
    "model.predict(sentence_2)[0][0].replace(\"__label__\", \"\").split(\"_\")[0][0:2]"
   ]
  },
  {
   "cell_type": "code",
   "execution_count": 11,
   "metadata": {},
   "outputs": [
    {
     "name": "stderr",
     "output_type": "stream",
     "text": [
      "/home/joaopn/software/miniconda3/envs/bench/lib/python3.11/site-packages/tqdm/auto.py:21: TqdmWarning: IProgress not found. Please update jupyter and ipywidgets. See https://ipywidgets.readthedocs.io/en/stable/user_install.html\n",
      "  from .autonotebook import tqdm as notebook_tqdm\n"
     ]
    },
    {
     "data": {
      "text/plain": [
       "(('__label__eng_Latn',\n",
       "  '__label__vie_Latn',\n",
       "  '__label__nld_Latn',\n",
       "  '__label__pol_Latn',\n",
       "  '__label__deu_Latn'),\n",
       " array([0.61224753, 0.21323682, 0.09696738, 0.01359863, 0.01319415]))"
      ]
     },
     "execution_count": 11,
     "metadata": {},
     "output_type": "execute_result"
    }
   ],
   "source": [
    "import fasttext\n",
    "from huggingface_hub import hf_hub_download\n",
    "\n",
    "model_path = hf_hub_download(repo_id=\"facebook/fasttext-language-identification\", filename=\"model.bin\")\n",
    "model = fasttext.load_model(model_path)\n"
   ]
  }
 ],
 "metadata": {
  "kernelspec": {
   "display_name": "bench",
   "language": "python",
   "name": "python3"
  },
  "language_info": {
   "codemirror_mode": {
    "name": "ipython",
    "version": 3
   },
   "file_extension": ".py",
   "mimetype": "text/x-python",
   "name": "python",
   "nbconvert_exporter": "python",
   "pygments_lexer": "ipython3",
   "version": "3.11.9"
  }
 },
 "nbformat": 4,
 "nbformat_minor": 2
}
